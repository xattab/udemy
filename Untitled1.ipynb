{
 "cells": [
  {
   "cell_type": "code",
   "execution_count": 1,
   "metadata": {
    "collapsed": true
   },
   "outputs": [],
   "source": [
    "import geopy"
   ]
  },
  {
   "cell_type": "code",
   "execution_count": 3,
   "metadata": {},
   "outputs": [
    {
     "data": {
      "text/plain": [
       "['ArcGIS',\n",
       " 'Baidu',\n",
       " 'Bing',\n",
       " 'DataBC',\n",
       " 'GeoNames',\n",
       " 'GeocodeFarm',\n",
       " 'GeocoderDotUS',\n",
       " 'GoogleV3',\n",
       " 'IGNFrance',\n",
       " 'LiveAddress',\n",
       " 'Location',\n",
       " 'NaviData',\n",
       " 'Nominatim',\n",
       " 'OpenCage',\n",
       " 'OpenMapQuest',\n",
       " 'Photon',\n",
       " 'Point',\n",
       " 'What3Words',\n",
       " 'YahooPlaceFinder',\n",
       " 'Yandex',\n",
       " '__builtins__',\n",
       " '__cached__',\n",
       " '__doc__',\n",
       " '__file__',\n",
       " '__loader__',\n",
       " '__name__',\n",
       " '__package__',\n",
       " '__path__',\n",
       " '__spec__',\n",
       " '__version__',\n",
       " 'compat',\n",
       " 'exc',\n",
       " 'format',\n",
       " 'geocoders',\n",
       " 'get_geocoder_for_service',\n",
       " 'location',\n",
       " 'point',\n",
       " 'units',\n",
       " 'util']"
      ]
     },
     "execution_count": 3,
     "metadata": {},
     "output_type": "execute_result"
    }
   ],
   "source": [
    "dir(geopy)"
   ]
  },
  {
   "cell_type": "code",
   "execution_count": 8,
   "metadata": {},
   "outputs": [],
   "source": [
    "from geopy.geocoders  import Nominatim"
   ]
  },
  {
   "cell_type": "code",
   "execution_count": 10,
   "metadata": {},
   "outputs": [
    {
     "ename": "NameError",
     "evalue": "name 'nom' is not defined",
     "output_type": "error",
     "traceback": [
      "\u001b[0;31m---------------------------------------------------------------------------\u001b[0m",
      "\u001b[0;31mNameError\u001b[0m                                 Traceback (most recent call last)",
      "\u001b[0;32m<ipython-input-10-12e86de62316>\u001b[0m in \u001b[0;36m<module>\u001b[0;34m()\u001b[0m\n\u001b[0;32m----> 1\u001b[0;31m \u001b[0mnom\u001b[0m\u001b[0;34m.\u001b[0m\u001b[0mgeocode\u001b[0m\u001b[0;34m(\u001b[0m\u001b[0;34m\"3995 23rd St, San Francisco, CA 94114\"\u001b[0m\u001b[0;34m)\u001b[0m\u001b[0;34m\u001b[0m\u001b[0m\n\u001b[0m",
      "\u001b[0;31mNameError\u001b[0m: name 'nom' is not defined"
     ]
    }
   ],
   "source": [
    "nom.geocode(\"3995 23rd St, San Francisco, CA 94114\")"
   ]
  },
  {
   "cell_type": "markdown",
   "metadata": {},
   "source": [
    "Nominatim.geocode(\"3995 23rd St, San Francisco, CA 94114\")"
   ]
  },
  {
   "cell_type": "code",
   "execution_count": 11,
   "metadata": {
    "collapsed": true
   },
   "outputs": [],
   "source": [
    "nom=Nominatim()"
   ]
  },
  {
   "cell_type": "code",
   "execution_count": 12,
   "metadata": {},
   "outputs": [
    {
     "data": {
      "text/plain": [
       "Location(3995, 23rd Street, Noe Valley, SF, California, 94114, United States of America, (37.7529648, -122.4317141, 0.0))"
      ]
     },
     "execution_count": 12,
     "metadata": {},
     "output_type": "execute_result"
    }
   ],
   "source": [
    "nom.geocode(\"3995 23rd St, San Francisco, CA 94114\")"
   ]
  },
  {
   "cell_type": "code",
   "execution_count": 14,
   "metadata": {},
   "outputs": [],
   "source": [
    "nom.geocode(\" CA 03187\")"
   ]
  },
  {
   "cell_type": "code",
   "execution_count": 15,
   "metadata": {
    "collapsed": true
   },
   "outputs": [],
   "source": [
    "n=nom.geocode(\"3995 23rd St, San Francisco, CA 94114\")"
   ]
  },
  {
   "cell_type": "code",
   "execution_count": 16,
   "metadata": {},
   "outputs": [
    {
     "data": {
      "text/plain": [
       "['__class__',\n",
       " '__delattr__',\n",
       " '__dir__',\n",
       " '__doc__',\n",
       " '__eq__',\n",
       " '__format__',\n",
       " '__ge__',\n",
       " '__getattribute__',\n",
       " '__getitem__',\n",
       " '__gt__',\n",
       " '__hash__',\n",
       " '__init__',\n",
       " '__iter__',\n",
       " '__le__',\n",
       " '__len__',\n",
       " '__lt__',\n",
       " '__module__',\n",
       " '__ne__',\n",
       " '__new__',\n",
       " '__reduce__',\n",
       " '__reduce_ex__',\n",
       " '__repr__',\n",
       " '__setattr__',\n",
       " '__sizeof__',\n",
       " '__slots__',\n",
       " '__str__',\n",
       " '__subclasshook__',\n",
       " '__unicode__',\n",
       " '_address',\n",
       " '_point',\n",
       " '_raw',\n",
       " '_tuple',\n",
       " 'address',\n",
       " 'altitude',\n",
       " 'latitude',\n",
       " 'longitude',\n",
       " 'point',\n",
       " 'raw']"
      ]
     },
     "execution_count": 16,
     "metadata": {},
     "output_type": "execute_result"
    }
   ],
   "source": [
    "dir(n)"
   ]
  },
  {
   "cell_type": "code",
   "execution_count": 17,
   "metadata": {},
   "outputs": [
    {
     "data": {
      "text/plain": [
       "geopy.location.Location"
      ]
     },
     "execution_count": 17,
     "metadata": {},
     "output_type": "execute_result"
    }
   ],
   "source": [
    "type(n)"
   ]
  },
  {
   "cell_type": "code",
   "execution_count": 18,
   "metadata": {},
   "outputs": [
    {
     "ename": "TypeError",
     "evalue": "'module' object is not callable",
     "output_type": "error",
     "traceback": [
      "\u001b[0;31m---------------------------------------------------------------------------\u001b[0m",
      "\u001b[0;31mTypeError\u001b[0m                                 Traceback (most recent call last)",
      "\u001b[0;32m<ipython-input-18-4912675eeb83>\u001b[0m in \u001b[0;36m<module>\u001b[0;34m()\u001b[0m\n\u001b[1;32m      1\u001b[0m \u001b[0;32mimport\u001b[0m \u001b[0mos\u001b[0m\u001b[0;34m\u001b[0m\u001b[0m\n\u001b[1;32m      2\u001b[0m \u001b[0;34m\u001b[0m\u001b[0m\n\u001b[0;32m----> 3\u001b[0;31m \u001b[0mos\u001b[0m\u001b[0;34m(\u001b[0m\u001b[0;34m)\u001b[0m\u001b[0;34m\u001b[0m\u001b[0m\n\u001b[0m",
      "\u001b[0;31mTypeError\u001b[0m: 'module' object is not callable"
     ]
    }
   ],
   "source": [
    "import os\n",
    "\n",
    "os()"
   ]
  },
  {
   "cell_type": "code",
   "execution_count": 19,
   "metadata": {},
   "outputs": [
    {
     "data": {
      "text/plain": [
       "['CLD_CONTINUED',\n",
       " 'CLD_DUMPED',\n",
       " 'CLD_EXITED',\n",
       " 'CLD_TRAPPED',\n",
       " 'EX_CANTCREAT',\n",
       " 'EX_CONFIG',\n",
       " 'EX_DATAERR',\n",
       " 'EX_IOERR',\n",
       " 'EX_NOHOST',\n",
       " 'EX_NOINPUT',\n",
       " 'EX_NOPERM',\n",
       " 'EX_NOUSER',\n",
       " 'EX_OK',\n",
       " 'EX_OSERR',\n",
       " 'EX_OSFILE',\n",
       " 'EX_PROTOCOL',\n",
       " 'EX_SOFTWARE',\n",
       " 'EX_TEMPFAIL',\n",
       " 'EX_UNAVAILABLE',\n",
       " 'EX_USAGE',\n",
       " 'F_LOCK',\n",
       " 'F_OK',\n",
       " 'F_TEST',\n",
       " 'F_TLOCK',\n",
       " 'F_ULOCK',\n",
       " 'MutableMapping',\n",
       " 'NGROUPS_MAX',\n",
       " 'O_ACCMODE',\n",
       " 'O_APPEND',\n",
       " 'O_ASYNC',\n",
       " 'O_CLOEXEC',\n",
       " 'O_CREAT',\n",
       " 'O_DIRECT',\n",
       " 'O_DIRECTORY',\n",
       " 'O_DSYNC',\n",
       " 'O_EXCL',\n",
       " 'O_LARGEFILE',\n",
       " 'O_NDELAY',\n",
       " 'O_NOATIME',\n",
       " 'O_NOCTTY',\n",
       " 'O_NOFOLLOW',\n",
       " 'O_NONBLOCK',\n",
       " 'O_PATH',\n",
       " 'O_RDONLY',\n",
       " 'O_RDWR',\n",
       " 'O_RSYNC',\n",
       " 'O_SYNC',\n",
       " 'O_TMPFILE',\n",
       " 'O_TRUNC',\n",
       " 'O_WRONLY',\n",
       " 'POSIX_FADV_DONTNEED',\n",
       " 'POSIX_FADV_NOREUSE',\n",
       " 'POSIX_FADV_NORMAL',\n",
       " 'POSIX_FADV_RANDOM',\n",
       " 'POSIX_FADV_SEQUENTIAL',\n",
       " 'POSIX_FADV_WILLNEED',\n",
       " 'PRIO_PGRP',\n",
       " 'PRIO_PROCESS',\n",
       " 'PRIO_USER',\n",
       " 'P_ALL',\n",
       " 'P_NOWAIT',\n",
       " 'P_NOWAITO',\n",
       " 'P_PGID',\n",
       " 'P_PID',\n",
       " 'P_WAIT',\n",
       " 'RTLD_DEEPBIND',\n",
       " 'RTLD_GLOBAL',\n",
       " 'RTLD_LAZY',\n",
       " 'RTLD_LOCAL',\n",
       " 'RTLD_NODELETE',\n",
       " 'RTLD_NOLOAD',\n",
       " 'RTLD_NOW',\n",
       " 'R_OK',\n",
       " 'SCHED_BATCH',\n",
       " 'SCHED_FIFO',\n",
       " 'SCHED_IDLE',\n",
       " 'SCHED_OTHER',\n",
       " 'SCHED_RESET_ON_FORK',\n",
       " 'SCHED_RR',\n",
       " 'SEEK_CUR',\n",
       " 'SEEK_DATA',\n",
       " 'SEEK_END',\n",
       " 'SEEK_HOLE',\n",
       " 'SEEK_SET',\n",
       " 'ST_APPEND',\n",
       " 'ST_MANDLOCK',\n",
       " 'ST_NOATIME',\n",
       " 'ST_NODEV',\n",
       " 'ST_NODIRATIME',\n",
       " 'ST_NOEXEC',\n",
       " 'ST_NOSUID',\n",
       " 'ST_RDONLY',\n",
       " 'ST_RELATIME',\n",
       " 'ST_SYNCHRONOUS',\n",
       " 'ST_WRITE',\n",
       " 'TMP_MAX',\n",
       " 'WCONTINUED',\n",
       " 'WCOREDUMP',\n",
       " 'WEXITED',\n",
       " 'WEXITSTATUS',\n",
       " 'WIFCONTINUED',\n",
       " 'WIFEXITED',\n",
       " 'WIFSIGNALED',\n",
       " 'WIFSTOPPED',\n",
       " 'WNOHANG',\n",
       " 'WNOWAIT',\n",
       " 'WSTOPPED',\n",
       " 'WSTOPSIG',\n",
       " 'WTERMSIG',\n",
       " 'WUNTRACED',\n",
       " 'W_OK',\n",
       " 'XATTR_CREATE',\n",
       " 'XATTR_REPLACE',\n",
       " 'XATTR_SIZE_MAX',\n",
       " 'X_OK',\n",
       " '_Environ',\n",
       " '__all__',\n",
       " '__builtins__',\n",
       " '__cached__',\n",
       " '__doc__',\n",
       " '__file__',\n",
       " '__loader__',\n",
       " '__name__',\n",
       " '__package__',\n",
       " '__spec__',\n",
       " '_execvpe',\n",
       " '_exists',\n",
       " '_exit',\n",
       " '_fwalk',\n",
       " '_get_exports_list',\n",
       " '_putenv',\n",
       " '_spawnvef',\n",
       " '_unsetenv',\n",
       " '_wrap_close',\n",
       " 'abort',\n",
       " 'access',\n",
       " 'altsep',\n",
       " 'chdir',\n",
       " 'chmod',\n",
       " 'chown',\n",
       " 'chroot',\n",
       " 'close',\n",
       " 'closerange',\n",
       " 'confstr',\n",
       " 'confstr_names',\n",
       " 'cpu_count',\n",
       " 'ctermid',\n",
       " 'curdir',\n",
       " 'defpath',\n",
       " 'device_encoding',\n",
       " 'devnull',\n",
       " 'dup',\n",
       " 'dup2',\n",
       " 'environ',\n",
       " 'environb',\n",
       " 'errno',\n",
       " 'error',\n",
       " 'execl',\n",
       " 'execle',\n",
       " 'execlp',\n",
       " 'execlpe',\n",
       " 'execv',\n",
       " 'execve',\n",
       " 'execvp',\n",
       " 'execvpe',\n",
       " 'extsep',\n",
       " 'fchdir',\n",
       " 'fchmod',\n",
       " 'fchown',\n",
       " 'fdatasync',\n",
       " 'fdopen',\n",
       " 'fork',\n",
       " 'forkpty',\n",
       " 'fpathconf',\n",
       " 'fsdecode',\n",
       " 'fsencode',\n",
       " 'fstat',\n",
       " 'fstatvfs',\n",
       " 'fsync',\n",
       " 'ftruncate',\n",
       " 'fwalk',\n",
       " 'get_exec_path',\n",
       " 'get_inheritable',\n",
       " 'get_terminal_size',\n",
       " 'getcwd',\n",
       " 'getcwdb',\n",
       " 'getegid',\n",
       " 'getenv',\n",
       " 'getenvb',\n",
       " 'geteuid',\n",
       " 'getgid',\n",
       " 'getgrouplist',\n",
       " 'getgroups',\n",
       " 'getloadavg',\n",
       " 'getlogin',\n",
       " 'getpgid',\n",
       " 'getpgrp',\n",
       " 'getpid',\n",
       " 'getppid',\n",
       " 'getpriority',\n",
       " 'getresgid',\n",
       " 'getresuid',\n",
       " 'getsid',\n",
       " 'getuid',\n",
       " 'getxattr',\n",
       " 'initgroups',\n",
       " 'isatty',\n",
       " 'kill',\n",
       " 'killpg',\n",
       " 'lchown',\n",
       " 'linesep',\n",
       " 'link',\n",
       " 'listdir',\n",
       " 'listxattr',\n",
       " 'lockf',\n",
       " 'lseek',\n",
       " 'lstat',\n",
       " 'major',\n",
       " 'makedev',\n",
       " 'makedirs',\n",
       " 'minor',\n",
       " 'mkdir',\n",
       " 'mkfifo',\n",
       " 'mknod',\n",
       " 'name',\n",
       " 'nice',\n",
       " 'open',\n",
       " 'openpty',\n",
       " 'pardir',\n",
       " 'path',\n",
       " 'pathconf',\n",
       " 'pathconf_names',\n",
       " 'pathsep',\n",
       " 'pipe',\n",
       " 'pipe2',\n",
       " 'popen',\n",
       " 'posix_fadvise',\n",
       " 'posix_fallocate',\n",
       " 'pread',\n",
       " 'putenv',\n",
       " 'pwrite',\n",
       " 'read',\n",
       " 'readlink',\n",
       " 'readv',\n",
       " 'remove',\n",
       " 'removedirs',\n",
       " 'removexattr',\n",
       " 'rename',\n",
       " 'renames',\n",
       " 'replace',\n",
       " 'rmdir',\n",
       " 'sched_get_priority_max',\n",
       " 'sched_get_priority_min',\n",
       " 'sched_getaffinity',\n",
       " 'sched_getparam',\n",
       " 'sched_getscheduler',\n",
       " 'sched_param',\n",
       " 'sched_rr_get_interval',\n",
       " 'sched_setaffinity',\n",
       " 'sched_setparam',\n",
       " 'sched_setscheduler',\n",
       " 'sched_yield',\n",
       " 'sendfile',\n",
       " 'sep',\n",
       " 'set_inheritable',\n",
       " 'setegid',\n",
       " 'seteuid',\n",
       " 'setgid',\n",
       " 'setgroups',\n",
       " 'setpgid',\n",
       " 'setpgrp',\n",
       " 'setpriority',\n",
       " 'setregid',\n",
       " 'setresgid',\n",
       " 'setresuid',\n",
       " 'setreuid',\n",
       " 'setsid',\n",
       " 'setuid',\n",
       " 'setxattr',\n",
       " 'spawnl',\n",
       " 'spawnle',\n",
       " 'spawnlp',\n",
       " 'spawnlpe',\n",
       " 'spawnv',\n",
       " 'spawnve',\n",
       " 'spawnvp',\n",
       " 'spawnvpe',\n",
       " 'st',\n",
       " 'stat',\n",
       " 'stat_float_times',\n",
       " 'stat_result',\n",
       " 'statvfs',\n",
       " 'statvfs_result',\n",
       " 'strerror',\n",
       " 'supports_bytes_environ',\n",
       " 'supports_dir_fd',\n",
       " 'supports_effective_ids',\n",
       " 'supports_fd',\n",
       " 'supports_follow_symlinks',\n",
       " 'symlink',\n",
       " 'sync',\n",
       " 'sys',\n",
       " 'sysconf',\n",
       " 'sysconf_names',\n",
       " 'system',\n",
       " 'tcgetpgrp',\n",
       " 'tcsetpgrp',\n",
       " 'terminal_size',\n",
       " 'times',\n",
       " 'times_result',\n",
       " 'truncate',\n",
       " 'ttyname',\n",
       " 'umask',\n",
       " 'uname',\n",
       " 'uname_result',\n",
       " 'unlink',\n",
       " 'unsetenv',\n",
       " 'urandom',\n",
       " 'utime',\n",
       " 'wait',\n",
       " 'wait3',\n",
       " 'wait4',\n",
       " 'waitid',\n",
       " 'waitid_result',\n",
       " 'waitpid',\n",
       " 'walk',\n",
       " 'write',\n",
       " 'writev']"
      ]
     },
     "execution_count": 19,
     "metadata": {},
     "output_type": "execute_result"
    }
   ],
   "source": [
    "dir(os)"
   ]
  },
  {
   "cell_type": "code",
   "execution_count": 21,
   "metadata": {},
   "outputs": [
    {
     "data": {
      "text/plain": [
       "['.ipynb_checkpoints',\n",
       " 'supermarkets-commas.txt',\n",
       " 'supermarkets.csv',\n",
       " 'Untitled1.ipynb',\n",
       " 'Untitled.ipynb',\n",
       " 'supermarkets.xlsx',\n",
       " 'supermarkets-semi-colons.txt',\n",
       " 'supermarkets.json']"
      ]
     },
     "execution_count": 21,
     "metadata": {},
     "output_type": "execute_result"
    }
   ],
   "source": [
    "os.listdir()"
   ]
  },
  {
   "cell_type": "code",
   "execution_count": 22,
   "metadata": {
    "collapsed": true
   },
   "outputs": [],
   "source": [
    "import pandas"
   ]
  },
  {
   "cell_type": "code",
   "execution_count": 23,
   "metadata": {
    "collapsed": true
   },
   "outputs": [],
   "source": [
    "df=pandas.read_csv(\"supermarkets.csv\")"
   ]
  },
  {
   "cell_type": "code",
   "execution_count": 24,
   "metadata": {},
   "outputs": [
    {
     "data": {
      "text/html": [
       "<div>\n",
       "<style>\n",
       "    .dataframe thead tr:only-child th {\n",
       "        text-align: right;\n",
       "    }\n",
       "\n",
       "    .dataframe thead th {\n",
       "        text-align: left;\n",
       "    }\n",
       "\n",
       "    .dataframe tbody tr th {\n",
       "        vertical-align: top;\n",
       "    }\n",
       "</style>\n",
       "<table border=\"1\" class=\"dataframe\">\n",
       "  <thead>\n",
       "    <tr style=\"text-align: right;\">\n",
       "      <th></th>\n",
       "      <th>ID</th>\n",
       "      <th>Address</th>\n",
       "      <th>City</th>\n",
       "      <th>State</th>\n",
       "      <th>Country</th>\n",
       "      <th>Name</th>\n",
       "      <th>Employees</th>\n",
       "    </tr>\n",
       "  </thead>\n",
       "  <tbody>\n",
       "    <tr>\n",
       "      <th>0</th>\n",
       "      <td>1</td>\n",
       "      <td>3666 21st St</td>\n",
       "      <td>San Francisco</td>\n",
       "      <td>CA 94114</td>\n",
       "      <td>USA</td>\n",
       "      <td>Madeira</td>\n",
       "      <td>8</td>\n",
       "    </tr>\n",
       "    <tr>\n",
       "      <th>1</th>\n",
       "      <td>2</td>\n",
       "      <td>735 Dolores St</td>\n",
       "      <td>San Francisco</td>\n",
       "      <td>CA 94119</td>\n",
       "      <td>USA</td>\n",
       "      <td>Bready Shop</td>\n",
       "      <td>15</td>\n",
       "    </tr>\n",
       "    <tr>\n",
       "      <th>2</th>\n",
       "      <td>3</td>\n",
       "      <td>332 Hill St</td>\n",
       "      <td>San Francisco</td>\n",
       "      <td>California 94114</td>\n",
       "      <td>USA</td>\n",
       "      <td>Super River</td>\n",
       "      <td>25</td>\n",
       "    </tr>\n",
       "    <tr>\n",
       "      <th>3</th>\n",
       "      <td>4</td>\n",
       "      <td>3995 23rd St</td>\n",
       "      <td>San Francisco</td>\n",
       "      <td>CA 94114</td>\n",
       "      <td>USA</td>\n",
       "      <td>Ben's Shop</td>\n",
       "      <td>10</td>\n",
       "    </tr>\n",
       "    <tr>\n",
       "      <th>4</th>\n",
       "      <td>5</td>\n",
       "      <td>1056 Sanchez St</td>\n",
       "      <td>San Francisco</td>\n",
       "      <td>California</td>\n",
       "      <td>USA</td>\n",
       "      <td>Sanchez</td>\n",
       "      <td>12</td>\n",
       "    </tr>\n",
       "    <tr>\n",
       "      <th>5</th>\n",
       "      <td>6</td>\n",
       "      <td>551 Alvarado St</td>\n",
       "      <td>San Francisco</td>\n",
       "      <td>CA 94114</td>\n",
       "      <td>USA</td>\n",
       "      <td>Richvalley</td>\n",
       "      <td>20</td>\n",
       "    </tr>\n",
       "  </tbody>\n",
       "</table>\n",
       "</div>"
      ],
      "text/plain": [
       "   ID          Address           City             State Country         Name  \\\n",
       "0   1     3666 21st St  San Francisco          CA 94114     USA      Madeira   \n",
       "1   2   735 Dolores St  San Francisco          CA 94119     USA  Bready Shop   \n",
       "2   3      332 Hill St  San Francisco  California 94114     USA  Super River   \n",
       "3   4     3995 23rd St  San Francisco          CA 94114     USA   Ben's Shop   \n",
       "4   5  1056 Sanchez St  San Francisco        California     USA      Sanchez   \n",
       "5   6  551 Alvarado St  San Francisco          CA 94114     USA   Richvalley   \n",
       "\n",
       "   Employees  \n",
       "0          8  \n",
       "1         15  \n",
       "2         25  \n",
       "3         10  \n",
       "4         12  \n",
       "5         20  "
      ]
     },
     "execution_count": 24,
     "metadata": {},
     "output_type": "execute_result"
    }
   ],
   "source": [
    "df"
   ]
  },
  {
   "cell_type": "code",
   "execution_count": 25,
   "metadata": {
    "collapsed": true
   },
   "outputs": [],
   "source": [
    "df[\"Address\"]=df[\"Address\"]+\", \"+df[\"City\"] + \", \"+ df[\"State\"]+\", \" + df[\"Country\"]"
   ]
  },
  {
   "cell_type": "code",
   "execution_count": 26,
   "metadata": {},
   "outputs": [
    {
     "data": {
      "text/html": [
       "<div>\n",
       "<style>\n",
       "    .dataframe thead tr:only-child th {\n",
       "        text-align: right;\n",
       "    }\n",
       "\n",
       "    .dataframe thead th {\n",
       "        text-align: left;\n",
       "    }\n",
       "\n",
       "    .dataframe tbody tr th {\n",
       "        vertical-align: top;\n",
       "    }\n",
       "</style>\n",
       "<table border=\"1\" class=\"dataframe\">\n",
       "  <thead>\n",
       "    <tr style=\"text-align: right;\">\n",
       "      <th></th>\n",
       "      <th>ID</th>\n",
       "      <th>Address</th>\n",
       "      <th>City</th>\n",
       "      <th>State</th>\n",
       "      <th>Country</th>\n",
       "      <th>Name</th>\n",
       "      <th>Employees</th>\n",
       "    </tr>\n",
       "  </thead>\n",
       "  <tbody>\n",
       "    <tr>\n",
       "      <th>0</th>\n",
       "      <td>1</td>\n",
       "      <td>3666 21st St, San Francisco, CA 94114, USA</td>\n",
       "      <td>San Francisco</td>\n",
       "      <td>CA 94114</td>\n",
       "      <td>USA</td>\n",
       "      <td>Madeira</td>\n",
       "      <td>8</td>\n",
       "    </tr>\n",
       "    <tr>\n",
       "      <th>1</th>\n",
       "      <td>2</td>\n",
       "      <td>735 Dolores St, San Francisco, CA 94119, USA</td>\n",
       "      <td>San Francisco</td>\n",
       "      <td>CA 94119</td>\n",
       "      <td>USA</td>\n",
       "      <td>Bready Shop</td>\n",
       "      <td>15</td>\n",
       "    </tr>\n",
       "    <tr>\n",
       "      <th>2</th>\n",
       "      <td>3</td>\n",
       "      <td>332 Hill St, San Francisco, California 94114, USA</td>\n",
       "      <td>San Francisco</td>\n",
       "      <td>California 94114</td>\n",
       "      <td>USA</td>\n",
       "      <td>Super River</td>\n",
       "      <td>25</td>\n",
       "    </tr>\n",
       "    <tr>\n",
       "      <th>3</th>\n",
       "      <td>4</td>\n",
       "      <td>3995 23rd St, San Francisco, CA 94114, USA</td>\n",
       "      <td>San Francisco</td>\n",
       "      <td>CA 94114</td>\n",
       "      <td>USA</td>\n",
       "      <td>Ben's Shop</td>\n",
       "      <td>10</td>\n",
       "    </tr>\n",
       "    <tr>\n",
       "      <th>4</th>\n",
       "      <td>5</td>\n",
       "      <td>1056 Sanchez St, San Francisco, California, USA</td>\n",
       "      <td>San Francisco</td>\n",
       "      <td>California</td>\n",
       "      <td>USA</td>\n",
       "      <td>Sanchez</td>\n",
       "      <td>12</td>\n",
       "    </tr>\n",
       "    <tr>\n",
       "      <th>5</th>\n",
       "      <td>6</td>\n",
       "      <td>551 Alvarado St, San Francisco, CA 94114, USA</td>\n",
       "      <td>San Francisco</td>\n",
       "      <td>CA 94114</td>\n",
       "      <td>USA</td>\n",
       "      <td>Richvalley</td>\n",
       "      <td>20</td>\n",
       "    </tr>\n",
       "  </tbody>\n",
       "</table>\n",
       "</div>"
      ],
      "text/plain": [
       "   ID                                            Address           City  \\\n",
       "0   1         3666 21st St, San Francisco, CA 94114, USA  San Francisco   \n",
       "1   2       735 Dolores St, San Francisco, CA 94119, USA  San Francisco   \n",
       "2   3  332 Hill St, San Francisco, California 94114, USA  San Francisco   \n",
       "3   4         3995 23rd St, San Francisco, CA 94114, USA  San Francisco   \n",
       "4   5    1056 Sanchez St, San Francisco, California, USA  San Francisco   \n",
       "5   6      551 Alvarado St, San Francisco, CA 94114, USA  San Francisco   \n",
       "\n",
       "              State Country         Name  Employees  \n",
       "0          CA 94114     USA      Madeira          8  \n",
       "1          CA 94119     USA  Bready Shop         15  \n",
       "2  California 94114     USA  Super River         25  \n",
       "3          CA 94114     USA   Ben's Shop         10  \n",
       "4        California     USA      Sanchez         12  \n",
       "5          CA 94114     USA   Richvalley         20  "
      ]
     },
     "execution_count": 26,
     "metadata": {},
     "output_type": "execute_result"
    }
   ],
   "source": [
    "df"
   ]
  },
  {
   "cell_type": "code",
   "execution_count": 28,
   "metadata": {},
   "outputs": [
    {
     "ename": "SyntaxError",
     "evalue": "invalid syntax (<ipython-input-28-365607347fa6>, line 1)",
     "output_type": "error",
     "traceback": [
      "\u001b[0;36m  File \u001b[0;32m\"<ipython-input-28-365607347fa6>\"\u001b[0;36m, line \u001b[0;32m1\u001b[0m\n\u001b[0;31m    df[\"Coordinates\"]=df[\"Address\"].apply.(nom.geocode)\u001b[0m\n\u001b[0m                                          ^\u001b[0m\n\u001b[0;31mSyntaxError\u001b[0m\u001b[0;31m:\u001b[0m invalid syntax\n"
     ]
    }
   ],
   "source": [
    "df[\"Coordinates\"]=df[\"Address\"].apply.(nom.geocode)\n",
    "df"
   ]
  },
  {
   "cell_type": "code",
   "execution_count": 30,
   "metadata": {},
   "outputs": [],
   "source": [
    "df[\"Coordinates\"]=df[\"Address\"].apply(nom.geocode)"
   ]
  },
  {
   "cell_type": "code",
   "execution_count": 32,
   "metadata": {},
   "outputs": [
    {
     "data": {
      "text/plain": [
       "Location(21st Street, Mission District, SF, California, 94114, United States of America, (37.757429, -122.4124954, 0.0))"
      ]
     },
     "execution_count": 32,
     "metadata": {},
     "output_type": "execute_result"
    }
   ],
   "source": [
    "df.Coordinates[0]"
   ]
  },
  {
   "cell_type": "code",
   "execution_count": null,
   "metadata": {
    "collapsed": true
   },
   "outputs": [],
   "source": []
  }
 ],
 "metadata": {
  "kernelspec": {
   "display_name": "Python 3",
   "language": "python",
   "name": "python3"
  },
  "language_info": {
   "codemirror_mode": {
    "name": "ipython",
    "version": 3
   },
   "file_extension": ".py",
   "mimetype": "text/x-python",
   "name": "python",
   "nbconvert_exporter": "python",
   "pygments_lexer": "ipython3",
   "version": "3.4.2"
  }
 },
 "nbformat": 4,
 "nbformat_minor": 2
}
